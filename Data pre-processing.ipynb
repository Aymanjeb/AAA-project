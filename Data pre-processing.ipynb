{
 "cells": [
  {
   "cell_type": "code",
   "execution_count": 66,
   "metadata": {},
   "outputs": [],
   "source": [
    "import pandas as pd\n",
    "import matplotlib.pyplot as plt\n",
    "import seaborn as sns\n",
    "import matplotlib.pyplot as plt\n",
    "import numpy as np"
   ]
  },
  {
   "cell_type": "code",
   "execution_count": 67,
   "metadata": {},
   "outputs": [
    {
     "name": "stdout",
     "output_type": "stream",
     "text": [
      " Columns with numerical values are : ['Age', 'Cholesterol', 'Heart Rate', 'Diabetes', 'Family History', 'Smoking', 'Obesity', 'Alcohol Consumption', 'Exercise Hours Per Week', 'Previous Heart Problems', 'Medication Use', 'Stress Level', 'Sedentary Hours Per Day', 'Income', 'BMI', 'Triglycerides', 'Physical Activity Days Per Week', 'Sleep Hours Per Day'] \n",
      " Columns with categorical values are : ['Sex', 'Blood Pressure', 'Diet', 'Country', 'Continent', 'Hemisphere']\n"
     ]
    }
   ],
   "source": [
    "initial_data = pd.read_csv('./data/heart_attack_prediction_dataset.csv')\n",
    "target = initial_data[\"Heart Attack Risk\"]\n",
    "data = initial_data.drop(columns=[\"Patient ID\", \"Heart Attack Risk\"])\n",
    "categorical_columns = data.select_dtypes(include=['object']).columns\n",
    "numerical_columns = data.select_dtypes(exclude=['object']).columns\n",
    "print(\" Columns with numerical values are :\", list(numerical_columns),\"\\n\",\"Columns with categorical values are :\", list(categorical_columns))\n",
    "\n",
    "categorical_data = initial_data[categorical_columns]\n",
    "numerical_data  = initial_data[numerical_columns]"
   ]
  },
  {
   "cell_type": "markdown",
   "metadata": {},
   "source": [
    "### Data preparation"
   ]
  },
  {
   "cell_type": "markdown",
   "metadata": {},
   "source": [
    "As seen before, there are no missing values in our dataset. We only need to scale our data and split it into train/dev/test."
   ]
  },
  {
   "cell_type": "code",
   "execution_count": 68,
   "metadata": {},
   "outputs": [
    {
     "data": {
      "text/plain": [
       "0     158/88\n",
       "1     165/93\n",
       "2     174/99\n",
       "3    163/100\n",
       "4      91/88\n",
       "Name: Blood Pressure, dtype: object"
      ]
     },
     "execution_count": 68,
     "metadata": {},
     "output_type": "execute_result"
    }
   ],
   "source": [
    "data[\"Blood Pressure\"].head()"
   ]
  },
  {
   "cell_type": "markdown",
   "metadata": {},
   "source": [
    "The feature \"Blood Pressure\" is expressed as a ratio of two numbers, like \"158/88\" or \"165/93.\" These values represent blood pressure measurements in millimeters of mercury (mm Hg) and are typically written in the form of \"systolic/diastolic\" blood pressure. We'll use these values to categorize the blood pressure into different ranges: \n",
    "\n",
    "    Normal Blood Pressure:\n",
    "        Systolic Pressure: Less than 120 mm Hg\n",
    "        Diastolic Pressure: Less than 80 mm Hg\n",
    "\n",
    "    Elevated Blood Pressure:\n",
    "        Systolic Pressure: 120-129 mm Hg\n",
    "        Diastolic Pressure: Less than 80 mm Hg\n",
    "\n",
    "    Hypertension Stage 1:\n",
    "        Systolic Pressure: 130-139 mm Hg\n",
    "        Diastolic Pressure: 80-89 mm Hg\n",
    "\n",
    "    Hypertension Stage 2:\n",
    "        Systolic Pressure: 140 mm Hg or higher\n",
    "        Diastolic Pressure: 90 mm Hg or higher\n",
    "\n",
    "    Hypertensive Crisis:\n",
    "        Systolic Pressure: Higher than 180 mm Hg\n",
    "        Diastolic Pressure: Higher than 120 mm Hg"
   ]
  },
  {
   "cell_type": "code",
   "execution_count": 69,
   "metadata": {},
   "outputs": [
    {
     "data": {
      "text/plain": [
       "Blood Pressure\n",
       "Normal                  5139\n",
       "Hypertension Stage 2    1685\n",
       "Hypertension Stage 1    1348\n",
       "Elevated                 591\n",
       "Name: count, dtype: int64"
      ]
     },
     "execution_count": 69,
     "metadata": {},
     "output_type": "execute_result"
    }
   ],
   "source": [
    "# Function to categorize blood pressure\n",
    "def categorize_blood_pressure(blood_pressure):\n",
    "    systolic, diastolic = map(int, blood_pressure.split('/'))\n",
    "    if systolic < 120 or diastolic < 80:\n",
    "        return 'Normal'\n",
    "    elif systolic < 130 or diastolic < 80:\n",
    "        return 'Elevated'\n",
    "    elif systolic < 140 or diastolic < 90:\n",
    "        return 'Hypertension Stage 1'\n",
    "    elif systolic >= 140 or diastolic >= 90:\n",
    "        return 'Hypertension Stage 2'\n",
    "    else:\n",
    "        return 'Unknown'\n",
    "\n",
    "\n",
    "data['Blood Pressure'] = data['Blood Pressure'].apply(categorize_blood_pressure)\n",
    "\n",
    "data['Blood Pressure'].value_counts()"
   ]
  },
  {
   "cell_type": "markdown",
   "metadata": {},
   "source": [
    "We can see that many patients suffer from high blood pressure"
   ]
  },
  {
   "cell_type": "code",
   "execution_count": 70,
   "metadata": {},
   "outputs": [
    {
     "name": "stdout",
     "output_type": "stream",
     "text": [
      "Sex\n",
      "Male      6111\n",
      "Female    2652\n",
      "Name: count, dtype: int64 \n",
      "\n",
      "Diet\n",
      "Healthy      2960\n",
      "Average      2912\n",
      "Unhealthy    2891\n",
      "Name: count, dtype: int64 \n",
      "\n",
      "Country\n",
      "Germany           477\n",
      "Argentina         471\n",
      "Brazil            462\n",
      "United Kingdom    457\n",
      "Australia         449\n",
      "Nigeria           448\n",
      "France            446\n",
      "Canada            440\n",
      "China             436\n",
      "New Zealand       435\n",
      "Japan             433\n",
      "Italy             431\n",
      "Spain             430\n",
      "Colombia          429\n",
      "Thailand          428\n",
      "South Africa      425\n",
      "Vietnam           425\n",
      "United States     420\n",
      "India             412\n",
      "South Korea       409\n",
      "Name: count, dtype: int64 \n",
      "\n"
     ]
    }
   ],
   "source": [
    "print(data[\"Sex\"].value_counts(),\"\\n\")\n",
    "print(data[\"Diet\"].value_counts(),\"\\n\")\n",
    "print(data[\"Country\"].value_counts(),\"\\n\")\n"
   ]
  },
  {
   "cell_type": "code",
   "execution_count": 71,
   "metadata": {},
   "outputs": [
    {
     "name": "stdout",
     "output_type": "stream",
     "text": [
      "Continent\n",
      "Asia             2543\n",
      "Europe           2241\n",
      "South America    1362\n",
      "Australia         884\n",
      "Africa            873\n",
      "North America     860\n",
      "Name: count, dtype: int64 \n",
      "\n",
      "Hemisphere\n",
      "Northern Hemisphere    5660\n",
      "Southern Hemisphere    3103\n",
      "Name: count, dtype: int64 \n",
      "\n"
     ]
    }
   ],
   "source": [
    "print(data[\"Continent\"].value_counts(),\"\\n\")\n",
    "print(data[\"Hemisphere\"].value_counts(),\"\\n\")"
   ]
  },
  {
   "cell_type": "markdown",
   "metadata": {},
   "source": [
    "Of course features \"Country\", \"Continent\" and \"Hemisphere\" will be correlated. So for now, we decide to keep feature \"Continent\" only."
   ]
  },
  {
   "cell_type": "code",
   "execution_count": 72,
   "metadata": {},
   "outputs": [],
   "source": [
    "data = data.drop(columns=[\"Country\", \"Hemisphere\"])\n",
    "categorical_columns = categorical_columns[categorical_columns != \"Country\"]\n",
    "categorical_columns = categorical_columns[categorical_columns != \"Hemisphere\"]"
   ]
  },
  {
   "cell_type": "markdown",
   "metadata": {},
   "source": [
    "We'll use a categorical encoder to see the correlation between our categorical attributes. But later, we'll use a one-hot-encoder. "
   ]
  },
  {
   "cell_type": "code",
   "execution_count": 120,
   "metadata": {},
   "outputs": [
    {
     "name": "stdout",
     "output_type": "stream",
     "text": [
      "[[ 1.         -0.00675454 -0.00804504  0.01650096 -0.01690162 -0.00307503]\n",
      " [-0.00675454  1.          0.00313134  0.02725923 -0.0187206  -0.0018703 ]\n",
      " [-0.00804504  0.00313134  1.         -0.0078969   0.01659173  0.00951113]\n",
      " [ 0.01650096  0.02725923 -0.0078969   1.         -0.44425409 -0.29270998]\n",
      " [-0.01690162 -0.0187206   0.01659173 -0.44425409  1.          0.22096295]\n",
      " [-0.00307503 -0.0018703   0.00951113 -0.29270998  0.22096295  1.        ]]\n"
     ]
    }
   ],
   "source": [
    "from sklearn.preprocessing import OrdinalEncoder\n",
    "ordinal_encoder = OrdinalEncoder()\n",
    "categorical_data_encoded = pd.DataFrame(ordinal_encoder.fit_transform(categorical_data), columns=categorical_data.columns)\n",
    "correlation_matrix = np.corrcoef(categorical_data_encoded, rowvar=False)\n",
    "print(correlation_matrix)"
   ]
  },
  {
   "cell_type": "markdown",
   "metadata": {},
   "source": [
    "It seems that the correlation between these features is very low"
   ]
  },
  {
   "cell_type": "markdown",
   "metadata": {},
   "source": [
    "## Definition of the pipeline"
   ]
  },
  {
   "cell_type": "markdown",
   "metadata": {},
   "source": [
    "We use a standard scaler to scale our numerical values and and a one hot encoder to encode our categorical ones"
   ]
  },
  {
   "cell_type": "code",
   "execution_count": 75,
   "metadata": {},
   "outputs": [],
   "source": [
    "from sklearn.pipeline import Pipeline\n",
    "from sklearn.preprocessing import StandardScaler, OneHotEncoder\n",
    "\n",
    "num_pipeline = Pipeline([\n",
    "    (\"scaler\",StandardScaler())\n",
    "])\n",
    "cat_pipeline = Pipeline([(\n",
    "     (\"cat_encoder\", OneHotEncoder(sparse=False))\n",
    ")])"
   ]
  },
  {
   "cell_type": "code",
   "execution_count": 76,
   "metadata": {},
   "outputs": [],
   "source": [
    "from sklearn.compose import ColumnTransformer\n",
    "\n",
    "preprocess_pipeline = ColumnTransformer([\n",
    "        (\"num\", num_pipeline, numerical_columns),\n",
    "        (\"cat\", cat_pipeline, categorical_columns),\n",
    "    ])"
   ]
  },
  {
   "cell_type": "markdown",
   "metadata": {},
   "source": [
    "We use a stratified split in order to ensure that the distribution of the target variable is preserved in both the training and test sets."
   ]
  },
  {
   "cell_type": "code",
   "execution_count": 77,
   "metadata": {},
   "outputs": [],
   "source": [
    "# Splitting the data\n",
    "from sklearn.model_selection import StratifiedShuffleSplit\n",
    "sss = StratifiedShuffleSplit(n_splits=1, test_size=0.2, random_state=42)\n"
   ]
  },
  {
   "cell_type": "code",
   "execution_count": 78,
   "metadata": {},
   "outputs": [],
   "source": [
    "for train_index, test_index in sss.split(data, target):\n",
    "    train_data, test_data = data.iloc[train_index], data.iloc[test_index]\n",
    "    y_train, y_test = target[train_index], target[test_index]"
   ]
  },
  {
   "cell_type": "code",
   "execution_count": 83,
   "metadata": {},
   "outputs": [
    {
     "name": "stderr",
     "output_type": "stream",
     "text": [
      "/home/aymane/Desktop/3A/LOGIN/AAA/Project/env/lib/python3.10/site-packages/sklearn/preprocessing/_encoders.py:975: FutureWarning: `sparse` was renamed to `sparse_output` in version 1.2 and will be removed in 1.4. `sparse_output` is ignored unless you leave `sparse` to its default value.\n",
      "  warnings.warn(\n"
     ]
    },
    {
     "data": {
      "text/plain": [
       "array([[-1.54117005, -0.12804283,  0.14343647, ...,  0.        ,\n",
       "         0.        ,  0.        ],\n",
       "       [-0.59683639, -1.09050277,  0.38615593, ...,  0.        ,\n",
       "         0.        ,  0.        ],\n",
       "       [-0.40796966, -1.26325199,  0.43469983, ...,  1.        ,\n",
       "         0.        ,  0.        ],\n",
       "       ...,\n",
       "       [ 0.81966411,  1.64880628,  1.64829715, ...,  0.        ,\n",
       "         0.        ,  1.        ],\n",
       "       [-0.03023619,  1.71050243, -0.58472192, ...,  0.        ,\n",
       "         0.        ,  0.        ],\n",
       "       [ 0.44193064, -0.42418435,  0.92013875, ...,  0.        ,\n",
       "         0.        ,  0.        ]])"
      ]
     },
     "execution_count": 83,
     "metadata": {},
     "output_type": "execute_result"
    }
   ],
   "source": [
    "X_train = preprocess_pipeline.fit_transform(\n",
    "    train_data)\n",
    "X_train"
   ]
  },
  {
   "cell_type": "markdown",
   "metadata": {},
   "source": [
    "# Try different models"
   ]
  },
  {
   "cell_type": "code",
   "execution_count": 116,
   "metadata": {},
   "outputs": [],
   "source": [
    "from sklearn.linear_model import LogisticRegression\n",
    "from sklearn.ensemble import RandomForestClassifier, VotingClassifier, StackingClassifier\n",
    "from xgboost import XGBClassifier\n",
    "from sklearn.svm import SVC\n",
    "from sklearn.neural_network import MLPClassifier\n",
    "\n",
    "lregression = LogisticRegression(class_weight='balanced',random_state=42)\n",
    "rfclassifier = RandomForestClassifier(random_state=42, class_weight='balanced', max_depth=6)\n",
    "xgbclassifier = XGBClassifier(random_state=42)\n",
    "svc = SVC(random_state=42,kernel=\"sigmoid\", class_weight='balanced')\n",
    "mlpclassifier = MLPClassifier(hidden_layer_sizes=(100,), activation='tanh', solver='lbfgs',random_state=42, max_iter=2000, learning_rate=\"invscaling\")\n",
    "models = [lregression, rfclassifier, xgbclassifier, svc, mlpclassifier]\n",
    "names = [\"LogisticRegression\", \"RandomForestClassifier\", \"XGBClassifier\", \"SVC\", \"MLPClassifier\"]"
   ]
  },
  {
   "cell_type": "code",
   "execution_count": 118,
   "metadata": {},
   "outputs": [
    {
     "name": "stdout",
     "output_type": "stream",
     "text": [
      "Score of LogisticRegression :  0.5054208273894437\n",
      "F1 score of LogisticRegression on test data :  0.41807147673634526\n",
      "Summary of LogisticRegression on test data : \n",
      "               precision    recall  f1-score   support\n",
      "\n",
      "           0       0.65      0.52      0.57      1125\n",
      "           1       0.36      0.49      0.42       628\n",
      "\n",
      "    accuracy                           0.51      1753\n",
      "   macro avg       0.50      0.50      0.50      1753\n",
      "weighted avg       0.54      0.51      0.52      1753\n",
      "\n",
      "Score of RandomForestClassifier :  0.638231098430813\n",
      "F1 score of RandomForestClassifier on test data :  0.015527950310559006\n",
      "Summary of RandomForestClassifier on test data : \n",
      "               precision    recall  f1-score   support\n",
      "\n",
      "           0       0.64      0.99      0.78      1125\n",
      "           1       0.31      0.01      0.02       628\n",
      "\n",
      "    accuracy                           0.64      1753\n",
      "   macro avg       0.48      0.50      0.40      1753\n",
      "weighted avg       0.52      0.64      0.51      1753\n",
      "\n",
      "Score of XGBClassifier :  0.5887303851640514\n",
      "F1 score of XGBClassifier on test data :  0.26299694189602446\n",
      "Summary of XGBClassifier on test data : \n",
      "               precision    recall  f1-score   support\n",
      "\n",
      "           0       0.64      0.80      0.71      1125\n",
      "           1       0.37      0.21      0.26       628\n",
      "\n",
      "    accuracy                           0.59      1753\n",
      "   macro avg       0.50      0.50      0.49      1753\n",
      "weighted avg       0.54      0.59      0.55      1753\n",
      "\n",
      "Score of SVC :  0.4881597717546362\n",
      "F1 score of SVC on test data :  0.425974025974026\n",
      "Summary of SVC on test data : \n",
      "               precision    recall  f1-score   support\n",
      "\n",
      "           0       0.64      0.48      0.55      1125\n",
      "           1       0.36      0.52      0.43       628\n",
      "\n",
      "    accuracy                           0.50      1753\n",
      "   macro avg       0.50      0.50      0.49      1753\n",
      "weighted avg       0.54      0.50      0.51      1753\n",
      "\n",
      "Score of MLPClassifier :  0.5396576319543509\n",
      "F1 score of MLPClassifier on test data :  0.3592156862745098\n",
      "Summary of MLPClassifier on test data : \n",
      "               precision    recall  f1-score   support\n",
      "\n",
      "           0       0.64      0.63      0.63      1125\n",
      "           1       0.35      0.36      0.36       628\n",
      "\n",
      "    accuracy                           0.53      1753\n",
      "   macro avg       0.50      0.50      0.50      1753\n",
      "weighted avg       0.54      0.53      0.54      1753\n",
      "\n"
     ]
    }
   ],
   "source": [
    "from sklearn.metrics import classification_report,f1_score\n",
    "from sklearn.model_selection import cross_val_score\n",
    "\n",
    "classification_reports, Scores, f1_scores = {}, {}, {}\n",
    "for classifier, name in zip(models, names):\n",
    "    scores = cross_val_score(classifier, X_train, y_train, cv=10)\n",
    "    X_test = preprocess_pipeline.transform(test_data)\n",
    "    classifier.fit(X_train, y_train)\n",
    "    y_pred = classifier.predict(X_test)\n",
    "    print(f\"Score of {name} : \", scores.mean())\n",
    "    Scores[name] = scores\n",
    "    f1 = f1_score(y_test, y_pred)\n",
    "    print(f\"F1 score of {name} on test data : \", f1)\n",
    "    f1_scores[name] = f1\n",
    "    print(f\"Summary of {name} on test data : \\n\", classification_report(y_test, y_pred))\n",
    "    classification_reports[name] = classification_report\n"
   ]
  },
  {
   "cell_type": "markdown",
   "metadata": {},
   "source": [
    "We plot accuracy values and f1 scores for each model to have a better visualization of the results\n"
   ]
  },
  {
   "cell_type": "code",
   "execution_count": 119,
   "metadata": {},
   "outputs": [
    {
     "data": {
      "image/png": "[encoded data removed]",
      "text/plain": [
       "<Figure size 640x480 with 1 Axes>"
      ]
     },
     "metadata": {},
     "output_type": "display_data"
    }
   ],
   "source": [
    "plt.plot(Scores.keys(), [scores.mean() for scores in Scores.values()], label = \"accuracy\")\n",
    "plt.plot(f1_scores.keys(),f1_scores.values(), label = \"f1_score\")\n",
    "plt.legend()\n",
    "plt.xticks(rotation = 80)\n",
    "plt.show()"
   ]
  },
  {
   "cell_type": "markdown",
   "metadata": {},
   "source": [
    "The plot represent accuracy values as well as F1-score values for each model. We can see an inverse relationship between accuracy and F1-score. In fact, given that our classes are imbalanced (65% instances of class 0 and 35% of class 1), a model can achieve high accuracy by simply predicting the majority class for most instances. But the F1-score takes into account both precision and recall, providing a more balanced measure that considers false positives and false negatives. This is why F1-score can be a more informative metric, \n",
    "\n"
   ]
  }
 ],
 "metadata": {
  "kernelspec": {
   "display_name": "env",
   "language": "python",
   "name": "python3"
  },
  "language_info": {
   "codemirror_mode": {
    "name": "ipython",
    "version": 3
   },
   "file_extension": ".py",
   "mimetype": "text/x-python",
   "name": "python",
   "nbconvert_exporter": "python",
   "pygments_lexer": "ipython3",
   "version": "3.10.12"
  }
 },
 "nbformat": 4,
 "nbformat_minor": 2
}
