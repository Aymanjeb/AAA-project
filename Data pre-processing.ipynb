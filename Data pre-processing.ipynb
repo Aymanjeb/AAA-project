{
 "cells": [
  {
   "cell_type": "code",
   "execution_count": 44,
   "metadata": {},
   "outputs": [],
   "source": [
    "import pandas as pd\n",
    "import matplotlib.pyplot as plt\n",
    "import seaborn as sns\n",
    "import matplotlib.pyplot as plt\n",
    "import numpy as np"
   ]
  },
  {
   "cell_type": "code",
   "execution_count": 45,
   "metadata": {},
   "outputs": [
    {
     "name": "stdout",
     "output_type": "stream",
     "text": [
      " Columns with numerical values are : ['Age', 'Cholesterol', 'Heart Rate', 'Diabetes', 'Family History', 'Smoking', 'Obesity', 'Alcohol Consumption', 'Exercise Hours Per Week', 'Previous Heart Problems', 'Medication Use', 'Stress Level', 'Sedentary Hours Per Day', 'Income', 'BMI', 'Triglycerides', 'Physical Activity Days Per Week', 'Sleep Hours Per Day'] \n",
      " Columns with categorical values are : ['Sex', 'Blood Pressure', 'Diet', 'Country', 'Continent', 'Hemisphere']\n"
     ]
    }
   ],
   "source": [
    "data = pd.read_csv('./data/heart_attack_prediction_dataset.csv')\n",
    "target = data[\"Heart Attack Risk\"]\n",
    "data = data.drop(columns=[\"Patient ID\", \"Heart Attack Risk\"])\n",
    "categorical_columns = data.select_dtypes(include=['object']).columns\n",
    "numerical_columns = data.select_dtypes(exclude=['object']).columns\n",
    "print(\" Columns with numerical values are :\", list(numerical_columns),\"\\n\",\"Columns with categorical values are :\", list(categorical_columns))\n",
    "\n",
    "categorical_data = data[categorical_columns]\n",
    "numerical_data  = data[numerical_columns]"
   ]
  },
  {
   "cell_type": "markdown",
   "metadata": {},
   "source": [
    "### Data preparation"
   ]
  },
  {
   "cell_type": "markdown",
   "metadata": {},
   "source": [
    "As seen before, there are no missing values in our dataset. We only need to scale our data and split it into train/dev/test."
   ]
  },
  {
   "cell_type": "code",
   "execution_count": 46,
   "metadata": {},
   "outputs": [
    {
     "data": {
      "text/plain": [
       "0     158/88\n",
       "1     165/93\n",
       "2     174/99\n",
       "3    163/100\n",
       "4      91/88\n",
       "Name: Blood Pressure, dtype: object"
      ]
     },
     "execution_count": 46,
     "metadata": {},
     "output_type": "execute_result"
    }
   ],
   "source": [
    "data[\"Blood Pressure\"].head()"
   ]
  },
  {
   "cell_type": "markdown",
   "metadata": {},
   "source": [
    "The feature \"Blood Pressure\" is expressed as a ratio of two numbers, like \"158/88\" or \"165/93.\" These values represent blood pressure measurements in millimeters of mercury (mm Hg) and are typically written in the form of \"systolic/diastolic\" blood pressure. We'll use these values to categorize the blood pressure into different ranges: \n",
    "\n",
    "    Normal Blood Pressure:\n",
    "        Systolic Pressure: Less than 120 mm Hg\n",
    "        Diastolic Pressure: Less than 80 mm Hg\n",
    "\n",
    "    Elevated Blood Pressure:\n",
    "        Systolic Pressure: 120-129 mm Hg\n",
    "        Diastolic Pressure: Less than 80 mm Hg\n",
    "\n",
    "    Hypertension Stage 1:\n",
    "        Systolic Pressure: 130-139 mm Hg\n",
    "        Diastolic Pressure: 80-89 mm Hg\n",
    "\n",
    "    Hypertension Stage 2:\n",
    "        Systolic Pressure: 140 mm Hg or higher\n",
    "        Diastolic Pressure: 90 mm Hg or higher\n",
    "\n",
    "    Hypertensive Crisis:\n",
    "        Systolic Pressure: Higher than 180 mm Hg\n",
    "        Diastolic Pressure: Higher than 120 mm Hg"
   ]
  },
  {
   "cell_type": "code",
   "execution_count": 47,
   "metadata": {},
   "outputs": [
    {
     "name": "stderr",
     "output_type": "stream",
     "text": [
      "/tmp/ipykernel_25759/2158140993.py:16: SettingWithCopyWarning: \n",
      "A value is trying to be set on a copy of a slice from a DataFrame.\n",
      "Try using .loc[row_indexer,col_indexer] = value instead\n",
      "\n",
      "See the caveats in the documentation: https://pandas.pydata.org/pandas-docs/stable/user_guide/indexing.html#returning-a-view-versus-a-copy\n",
      "  categorical_data['Blood Pressure'] = data['Blood Pressure'].apply(categorize_blood_pressure)\n"
     ]
    },
    {
     "data": {
      "text/plain": [
       "Blood Pressure\n",
       "Normal                  5139\n",
       "Hypertension Stage 2    1685\n",
       "Hypertension Stage 1    1348\n",
       "Elevated                 591\n",
       "Name: count, dtype: int64"
      ]
     },
     "execution_count": 47,
     "metadata": {},
     "output_type": "execute_result"
    }
   ],
   "source": [
    "# Function to categorize blood pressure\n",
    "def categorize_blood_pressure(blood_pressure):\n",
    "    systolic, diastolic = map(int, blood_pressure.split('/'))\n",
    "    if systolic < 120 or diastolic < 80:\n",
    "        return 'Normal'\n",
    "    elif systolic < 130 or diastolic < 80:\n",
    "        return 'Elevated'\n",
    "    elif systolic < 140 or diastolic < 90:\n",
    "        return 'Hypertension Stage 1'\n",
    "    elif systolic >= 140 or diastolic >= 90:\n",
    "        return 'Hypertension Stage 2'\n",
    "    else:\n",
    "        return 'Unknown'\n",
    "\n",
    "\n",
    "categorical_data['Blood Pressure'] = data['Blood Pressure'].apply(categorize_blood_pressure)\n",
    "\n",
    "categorical_data['Blood Pressure'].value_counts()"
   ]
  },
  {
   "cell_type": "markdown",
   "metadata": {},
   "source": [
    "We can see that many patients suffer from high blood pressure"
   ]
  },
  {
   "cell_type": "code",
   "execution_count": 48,
   "metadata": {},
   "outputs": [
    {
     "name": "stdout",
     "output_type": "stream",
     "text": [
      "Sex\n",
      "Male      6111\n",
      "Female    2652\n",
      "Name: count, dtype: int64 \n",
      "\n",
      "Diet\n",
      "Healthy      2960\n",
      "Average      2912\n",
      "Unhealthy    2891\n",
      "Name: count, dtype: int64 \n",
      "\n",
      "Country\n",
      "Germany           477\n",
      "Argentina         471\n",
      "Brazil            462\n",
      "United Kingdom    457\n",
      "Australia         449\n",
      "Nigeria           448\n",
      "France            446\n",
      "Canada            440\n",
      "China             436\n",
      "New Zealand       435\n",
      "Japan             433\n",
      "Italy             431\n",
      "Spain             430\n",
      "Colombia          429\n",
      "Thailand          428\n",
      "South Africa      425\n",
      "Vietnam           425\n",
      "United States     420\n",
      "India             412\n",
      "South Korea       409\n",
      "Name: count, dtype: int64 \n",
      "\n"
     ]
    }
   ],
   "source": [
    "print(data[\"Sex\"].value_counts(),\"\\n\")\n",
    "print(data[\"Diet\"].value_counts(),\"\\n\")\n",
    "print(data[\"Country\"].value_counts(),\"\\n\")\n"
   ]
  },
  {
   "cell_type": "code",
   "execution_count": 49,
   "metadata": {},
   "outputs": [
    {
     "name": "stdout",
     "output_type": "stream",
     "text": [
      "Continent\n",
      "Asia             2543\n",
      "Europe           2241\n",
      "South America    1362\n",
      "Australia         884\n",
      "Africa            873\n",
      "North America     860\n",
      "Name: count, dtype: int64 \n",
      "\n",
      "Hemisphere\n",
      "Northern Hemisphere    5660\n",
      "Southern Hemisphere    3103\n",
      "Name: count, dtype: int64 \n",
      "\n"
     ]
    }
   ],
   "source": [
    "print(data[\"Continent\"].value_counts(),\"\\n\")\n",
    "print(data[\"Hemisphere\"].value_counts(),\"\\n\")"
   ]
  },
  {
   "cell_type": "markdown",
   "metadata": {},
   "source": [
    "Of course features \"Country\", \"Continent\" and \"Hemisphere\" will be correlated. So we decide to keep feature \"Continent\" only."
   ]
  },
  {
   "cell_type": "code",
   "execution_count": 50,
   "metadata": {},
   "outputs": [],
   "source": [
    "categorical_data = categorical_data.drop(columns=[\"Country\", \"Hemisphere\"])"
   ]
  },
  {
   "cell_type": "code",
   "execution_count": 51,
   "metadata": {},
   "outputs": [],
   "source": [
    "#pip install -U scikit-learn\n",
    "from sklearn.preprocessing import OrdinalEncoder\n",
    "ordinal_encoder = OrdinalEncoder()\n",
    "categorical_data_encoded = ordinal_encoder.fit_transform(categorical_data)"
   ]
  },
  {
   "cell_type": "code",
   "execution_count": 52,
   "metadata": {},
   "outputs": [
    {
     "name": "stdout",
     "output_type": "stream",
     "text": [
      "[[ 1.          0.00998315 -0.00804504 -0.01690162]\n",
      " [ 0.00998315  1.         -0.01749413 -0.03176742]\n",
      " [-0.00804504 -0.01749413  1.          0.01659173]\n",
      " [-0.01690162 -0.03176742  0.01659173  1.        ]]\n"
     ]
    }
   ],
   "source": [
    "correlation_matrix = np.corrcoef(categorical_data_encoded, rowvar=False)\n",
    "print(correlation_matrix)"
   ]
  }
 ],
 "metadata": {
  "kernelspec": {
   "display_name": "env",
   "language": "python",
   "name": "python3"
  },
  "language_info": {
   "codemirror_mode": {
    "name": "ipython",
    "version": 3
   },
   "file_extension": ".py",
   "mimetype": "text/x-python",
   "name": "python",
   "nbconvert_exporter": "python",
   "pygments_lexer": "ipython3",
   "version": "3.10.12"
  }
 },
 "nbformat": 4,
 "nbformat_minor": 2
}
